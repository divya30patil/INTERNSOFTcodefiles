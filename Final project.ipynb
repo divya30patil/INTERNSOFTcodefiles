{
 "cells": [
  {
   "cell_type": "code",
   "execution_count": 1,
   "id": "89eea19c",
   "metadata": {},
   "outputs": [],
   "source": [
    "import os\n",
    "import time\n",
    "import subprocess\n",
    "import json "
   ]
  },
  {
   "cell_type": "code",
   "execution_count": 2,
   "id": "9fff756b",
   "metadata": {},
   "outputs": [],
   "source": [
    "import wolframalpha\n",
    "import requests\n",
    "import webbrowser\n",
    "import wikipedia\n",
    "import datetime"
   ]
  },
  {
   "cell_type": "code",
   "execution_count": 3,
   "id": "4021cc40",
   "metadata": {},
   "outputs": [],
   "source": [
    "import speech_recognition as sr\n",
    "import pyttsx3 "
   ]
  },
  {
   "cell_type": "code",
   "execution_count": 4,
   "id": "f72df6fd",
   "metadata": {},
   "outputs": [
    {
     "name": "stdout",
     "output_type": "stream",
     "text": [
      "LOADING YOUR A.I PERSONAL ASSISTANT JARVIS\n"
     ]
    }
   ],
   "source": [
    "print(\"LOADING YOUR A.I PERSONAL ASSISTANT JARVIS\")"
   ]
  },
  {
   "cell_type": "code",
   "execution_count": 5,
   "id": "a7719a78",
   "metadata": {},
   "outputs": [],
   "source": [
    "engine = pyttsx3.init('sapi5')\n",
    "voices = engine.getProperty('voices')\n",
    "engine.setProperty('voice','voices[0].id')"
   ]
  },
  {
   "cell_type": "code",
   "execution_count": 6,
   "id": "c1e109e7",
   "metadata": {},
   "outputs": [],
   "source": [
    "def speak(text):\n",
    "    engine.say(text)\n",
    "    engine.runAndWait()"
   ]
  },
  {
   "cell_type": "code",
   "execution_count": 7,
   "id": "e0ff0a34",
   "metadata": {},
   "outputs": [],
   "source": [
    "def wishMe():\n",
    "    hour = datetime.datetime.now().hour\n",
    "    if hour >= 0 and hour < 12:\n",
    "        speak('Hello,good morning Ms. Divya')\n",
    "        print('Hello,good morning Ms. Divya')\n",
    "    elif hour>=12 and hour <= 18:\n",
    "        speak('Hello, Good afternoon Ms. Divya')\n",
    "        print('Hello, Good afternoon Ms. Divya')\n",
    "    else:\n",
    "        speak('Its already night time better to sleep')        "
   ]
  },
  {
   "cell_type": "code",
   "execution_count": 8,
   "id": "eaac5be6",
   "metadata": {},
   "outputs": [],
   "source": [
    "def takeCommand():\n",
    "    r = sr.Recognizer()\n",
    "    with sr.Microphone() as source:\n",
    "        print('I am Listening')\n",
    "        audio = r.listen(source)\n",
    "        \n",
    "        try:\n",
    "            statement = r.recognize_google(audio,language='en-in')\n",
    "            print(f\"user said:{statement}\\n\")\n",
    "            \n",
    "        except Exception as e:\n",
    "            speak(\"pardon me, Please say it again\")\n",
    "            return \"None\"\n",
    "        return statement "
   ]
  },
  {
   "cell_type": "code",
   "execution_count": 9,
   "id": "62f04e2f",
   "metadata": {},
   "outputs": [
    {
     "name": "stdout",
     "output_type": "stream",
     "text": [
      "I am Listening\n",
      "user said:convert 10 km to M\n",
      "\n",
      "I am Listening\n",
      "I am Listening\n",
      "user said:can you show some news headline for me\n",
      "\n",
      "I am Listening\n",
      "user said:what is the weather today\n",
      "\n",
      "I am Listening\n",
      "user said:Dangal\n",
      "\n",
      " Temperature in kelvin units = 293.35\n",
      " humidity in percentage = 94\n",
      " description = overcast clouds\n",
      "I am Listening\n",
      "user said:ok bye bye\n",
      "\n",
      "Your Personal Assissant A.I JARVIS is shutting down, Good bye\n"
     ]
    }
   ],
   "source": [
    "\n",
    "speak(\"LOADING YOU A.I ASSISSANT JARVIS\")\n",
    "wishMe()\n",
    "if __name__ == '__main__':\n",
    "    while True:\n",
    "        speak('How can I help you?')\n",
    "        statement = takeCommand().lower()\n",
    "        \n",
    "        if statement ==0:\n",
    "            continue\n",
    "        \n",
    "        if \"good bye\" in statement or \"ok bye\" in statement or \"stop\" in statement:\n",
    "            speak(\"Your Personal Assissant A.I JARVIS is shutting down, Good bye\")\n",
    "            print(\"Your Personal Assissant A.I JARVIS is shutting down, Good bye\")\n",
    "            break\n",
    "        \n",
    "        if 'wikipedia' in statement:\n",
    "            speak(\"searching wikipedia.....\")\n",
    "            statement = statement.replace(\"wikipedia\",\"\")\n",
    "            results = wikipedia.summary(statement,sentences = 3)\n",
    "            speak(\"According to wikipedia...\")\n",
    "            print(results)\n",
    "            speak(results)\n",
    "        \n",
    "        elif \"open youtube\" in statement:\n",
    "            webbrowser.open_new_tab(\"https://www.youtube.com\")\n",
    "            speak(\"Youtube is open for you\")\n",
    "            time.sleep(5)\n",
    "        \n",
    "        elif \"open google\" in statement:\n",
    "            webbrowser.open_new_tab(\"https://www.google.com\")\n",
    "            speak(\"Google search is open for you\")\n",
    "            time.sleep(5)\n",
    "        \n",
    "        elif \"open gmail\" in statement:\n",
    "            webbrowser.open_new_tab(\"gmail.com\")\n",
    "            speak(\"Gmail is open for you\")\n",
    "            time.sleep(5)\n",
    "        elif \"weather\" in statement:\n",
    "            api_key = \"8ef61edcf1c576d65d836254e11ea420\"\n",
    "            base_url = \"http://api.openweathermap.org/data/2.5/weather?\"\n",
    "            speak(\"What is the city name?\")\n",
    "            city_name=takeCommand()\n",
    "            complete_url = base_url + \"appid=\" + api_key + \"&q=\" + city_name\n",
    "            response = requests.get(complete_url)\n",
    "            x = response.json()\n",
    "            if x[\"cod\"] != \"404\":\n",
    "                y = x[\"main\"]\n",
    "                current_temperature = y[\"temp\"]\n",
    "                current_humidity = y[\"humidity\"]\n",
    "                z = x[\"weather\"]\n",
    "                weather_description = z[0][\"description\"]\n",
    "                print(\" Temperature in kelvin units = \" +\n",
    "                                str(current_temperature) +\n",
    "                      \"\\n humidity in percentage = \" +\n",
    "                                str(current_humidity) +\n",
    "                      \"\\n description = \" +\n",
    "                                str(weather_description))\n",
    "                speak(\" Temperature in kelvin units = \" +\n",
    "                                str(current_temperature) +\n",
    "                      \"\\n humidity in percentage = \" +\n",
    "                                str(current_humidity) +\n",
    "                      \"\\n description = \" +\n",
    "                                str(weather_description))\n",
    "            else:\n",
    "                print(\" City Not Found \")\n",
    "                speak(\" City Not Found \")\n",
    "            \n",
    "        elif \"time\" in  statement:\n",
    "            strTime = datetime.datetime.now().strftime(\"%H:%M:%S\")\n",
    "            speak(f\"The time is {strTime}\")\n",
    "        elif \"who are you\" in statement or \"What can you do?\" in statement:\n",
    "            speak(\"I am Jarvis version 1 point 0 your personal assistant.\"\n",
    "                  'I am programmed to minor task like opening youtube,google chrome,gmail and stack overflow ,predict time,'\n",
    "                  'take photo,search wikipedia,predict weather in different cities,get top headlines from TIMES OF INDIA and you'\n",
    "                  'can ask me computational and geographical questions too!')\n",
    "        \n",
    "        elif \"who made you\" in statement or \"who created you\" in statement or \"who discovered you\" in statement:\n",
    "            speak(\"I was built by A i robosoft\")\n",
    "            print(\"I was built by A i robosoft\")\n",
    "        elif \"open stack overflow\" in statement:\n",
    "            webbrowser.open_new_tab(\"http://www.stackoverflow.com/login\")\n",
    "            time.sleep(5)\n",
    "        elif \"news\" in statement:\n",
    "            news = webbrowser.open_new_tab(\"http://www.timesofindia.indiatimes.com/home\")\n",
    "            speak(\"here are some headline for you from times of india-happy reading\")\n",
    "            time.sleep(7)\n",
    "                  \n",
    "        elif \"search\" in statement:\n",
    "            statement = statement.replace(\"search\", \" \")\n",
    "            webbrowser.open_new_tab(\"statement\")\n",
    "            time.sleep(5)\n",
    "        \n",
    "        elif \"ask\" in statement:\n",
    "            speak(\"I can answer to computational and geographical questions too just try me! what do you want to ask?\")\n",
    "            question = takeCommand()\n",
    "            app_id=\"R2K75H-7ELALHR35X\"\n",
    "            client = wolframalpha.Client('R2K75H-7ELALHR35X')\n",
    "            res = client.query(question)\n",
    "            answer = next(res.results).text\n",
    "            speak(answer)\n",
    "            print(answer)\n",
    "                  \n",
    "        elif \"log off \" in statement or \"sign off\" in statement or \"shutdown\" in statement:\n",
    "            speak(\"ok, your PC will shutdown in 10 seconds- make sure you have to save and exit from all application\")\n",
    "            subprocess.call(['shutdown',\"/l\"])\n",
    "\n",
    "time.sleep(5)\n"
   ]
  },
  {
   "cell_type": "code",
   "execution_count": null,
   "id": "8655a446",
   "metadata": {},
   "outputs": [],
   "source": []
  }
 ],
 "metadata": {
  "kernelspec": {
   "display_name": "Python 3",
   "language": "python",
   "name": "python3"
  },
  "language_info": {
   "codemirror_mode": {
    "name": "ipython",
    "version": 3
   },
   "file_extension": ".py",
   "mimetype": "text/x-python",
   "name": "python",
   "nbconvert_exporter": "python",
   "pygments_lexer": "ipython3",
   "version": "3.8.8"
  }
 },
 "nbformat": 4,
 "nbformat_minor": 5
}
